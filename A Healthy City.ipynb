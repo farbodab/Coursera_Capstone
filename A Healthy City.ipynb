{
 "cells": [
  {
   "cell_type": "markdown",
   "metadata": {},
   "source": [
    "# Background"
   ]
  },
  {
   "cell_type": "markdown",
   "metadata": {},
   "source": [
    "<a href=\"http://thecanadianfacts.org/the_canadian_facts.pdf\">Social determinants of health</a> (such as income and income distribution, education, unemployement, food insecurity, housing, race and many others) have been long known to have a major impact on health outcomes. However, these impacts are never obvious or clearly visualized in a day to day basis. In this project, I hope to show the effects of social determinants of health using clustering algorithms. I will cluster health outcome data to group toronto into different clusters. I will then use clustering algorithms on social determinants data. Overlapping these two clusters should show the effect of social determinants of health on health outcomes\n",
    "<img src=\"https://www.cma.ca/Assets/assets-library/image/en/advocacy/what-makes-canadians-sick-e.png\" alt=\"Social Determinants of Health\">"
   ]
  },
  {
   "cell_type": "markdown",
   "metadata": {},
   "source": [
    "# Data Source"
   ]
  },
  {
   "cell_type": "markdown",
   "metadata": {},
   "source": [
    "The city of Toronto has a platform called <a href=\"https://www.toronto.ca/city-government/data-research-maps/open-data/open-data-catalogue/\">Open Data Catalogue</a>. This platform has a number of datasets titled \"Wellbeing Toronto - ...\", I will use the datasets for demographics, economics, education, environement, housing, recreation, safety and transporation for one set of clustering and the health dataset for the other clustering. Overlapping these two is expected to show the effects of the social determinants of health on health outcomes. "
   ]
  }
 ],
 "metadata": {
  "kernelspec": {
   "display_name": "Python 3",
   "language": "python",
   "name": "python3"
  },
  "language_info": {
   "codemirror_mode": {
    "name": "ipython",
    "version": 3
   },
   "file_extension": ".py",
   "mimetype": "text/x-python",
   "name": "python",
   "nbconvert_exporter": "python",
   "pygments_lexer": "ipython3",
   "version": "3.6.5"
  }
 },
 "nbformat": 4,
 "nbformat_minor": 2
}
